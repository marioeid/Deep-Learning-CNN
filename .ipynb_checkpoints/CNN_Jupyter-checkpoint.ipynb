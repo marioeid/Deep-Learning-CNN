{
 "cells": [
  {
   "cell_type": "markdown",
   "metadata": {},
   "source": [
    "#### Importing the Keras libraries and packages"
   ]
  },
  {
   "cell_type": "code",
   "execution_count": null,
   "metadata": {},
   "outputs": [],
   "source": [
    "from keras.models import Sequential\n",
    "from keras.layers import Conv2D\n",
    "from keras.layers import MaxPooling2D\n",
    "from keras.layers import Flatten\n",
    "from keras.layers import Dense\n",
    "from keras.layers import Dropout"
   ]
  },
  {
   "cell_type": "markdown",
   "metadata": {},
   "source": [
    "#### intialize you cNN as a squence of layres not as a graph\n"
   ]
  },
  {
   "cell_type": "code",
   "execution_count": null,
   "metadata": {},
   "outputs": [],
   "source": [
    "classifier=Sequential()"
   ]
  },
  {
   "cell_type": "markdown",
   "metadata": {},
   "source": [
    "#### convolution step "
   ]
  },
  {
   "cell_type": "code",
   "execution_count": null,
   "metadata": {},
   "outputs": [],
   "source": [
    "# define how many features maps and the (row,col) of the feature map\n",
    "# first argument is the number of features maps \n",
    "# second argument is (row,col) of each feature map\n",
    "# third a rgument you need to force your image to a certain (row,col) cause your \n",
    "# images are not all in the same format (row,col) differs so you need to enforce them to equal one\n",
    "# remeber input image is converted into 2d array if it's black and white \n",
    "# and converted into 3d array if it's colored and we are working with colored image \n",
    "# a 3d array is composed of 3 channels and every channel coresponds to one 2d array\n",
    "# now the third argument input_shape takes three arguments the third one \n",
    "# is the number of chaneels 1 if it's black and White and 2 if it's colored image \n",
    "#  input_shape = (64, 64, 3) first (64,64) is the the dim of the image and 3 is the number of channels\n",
    "# if you choosed 128*128 you will take much time cause you are working in the cpu\n",
    "classifier.add(Conv2D(32,(3,3), input_shape = (128,128,3),activation='relu'))\n",
    "classifier.add(Dropout(0.1))"
   ]
  },
  {
   "cell_type": "markdown",
   "metadata": {},
   "source": [
    "#### pooling step"
   ]
  },
  {
   "cell_type": "code",
   "execution_count": null,
   "metadata": {},
   "outputs": [],
   "source": [
    "classifier.add(MaxPooling2D(pool_size=(2,2)))"
   ]
  },
  {
   "cell_type": "markdown",
   "metadata": {},
   "source": [
    "#### adding layers and pooling them"
   ]
  },
  {
   "cell_type": "code",
   "execution_count": null,
   "metadata": {},
   "outputs": [],
   "source": [
    "                          # adding another layer and pooling it\n",
    "classifier.add(Conv2D(32,(3,3),activation='relu'))\n",
    "classifier.add(MaxPooling2D(pool_size=(2,2)))\n",
    "                        \n",
    "                         # adding another layer and pooling it\n",
    "classifier.add(Conv2D(64,(3,3),activation='relu'))\n",
    "classifier.add(MaxPooling2D(pool_size=(2,2)))\n"
   ]
  },
  {
   "cell_type": "markdown",
   "metadata": {},
   "source": [
    "####  flattening step"
   ]
  },
  {
   "cell_type": "code",
   "execution_count": null,
   "metadata": {},
   "outputs": [],
   "source": [
    "classifier.add(Flatten())"
   ]
  },
  {
   "cell_type": "markdown",
   "metadata": {},
   "source": [
    "#### full connection our ANN"
   ]
  },
  {
   "cell_type": "code",
   "execution_count": null,
   "metadata": {},
   "outputs": [],
   "source": [
    " # common to choose units a power of two                          \n",
    "                               # first full connection layer \n",
    "classifier.add(Dense(units=128,activation='relu'))\n",
    "classifier.add(Dropout(rate = 0.1))\n",
    "                               # second full connection layer \n",
    "                               \n",
    "classifier.add(Dense(units=128,activation='relu'))\n",
    "classifier.add(Dropout(rate = 0.1))\n",
    "\n",
    "                           # output layer \n",
    "classifier.add(Dense(units=1,activation='sigmoid'))"
   ]
  },
  {
   "cell_type": "markdown",
   "metadata": {},
   "source": [
    "#### compiling our CNN "
   ]
  },
  {
   "cell_type": "code",
   "execution_count": null,
   "metadata": {},
   "outputs": [],
   "source": [
    "classifier.compile(optimizer='adam',loss='binary_crossentropy', metrics=['accuracy'])    "
   ]
  },
  {
   "cell_type": "markdown",
   "metadata": {},
   "source": [
    "#### image generator to genrate more dataset for better accuracy"
   ]
  },
  {
   "cell_type": "code",
   "execution_count": null,
   "metadata": {
    "scrolled": false
   },
   "outputs": [],
   "source": [
    "# using keras to fit the cNN in this step we \n",
    "# encrich our dataset by rotating our images scalling them shearing and zooming\n",
    "# so we get a lot more data than the original data \n",
    "from keras.preprocessing.image import ImageDataGenerator\n",
    "train_datagen = ImageDataGenerator(\n",
    "        rescale=1./255, # scale our values between 0 and 1 (originally they are 1 up to 255)\n",
    "        shear_range=0.2, # random tranvictions (transitions)\n",
    "        zoom_range=0.2, # applyinig some random zooms\n",
    "        horizontal_flip=True) # flipping our image\n",
    "\n",
    "test_datagen = ImageDataGenerator(rescale=1./255) # scale our test set\n",
    "\n",
    "training_set= train_datagen.flow_from_directory(\n",
    "        'dataset/training_set',\n",
    "        target_size=(128,128), # the expected size of our input images look at the input layer\n",
    "        batch_size=32,       # the number of images that will go after updating the weights\n",
    "        class_mode='binary') # two or more objects here only binary outcome cat or dog\n",
    "\n",
    "test_set = test_datagen.flow_from_directory(\n",
    "        'dataset/test_set',\n",
    "        target_size=(128,128),\n",
    "        batch_size=32,\n",
    "        class_mode='binary')"
   ]
  },
  {
   "cell_type": "markdown",
   "metadata": {},
   "source": [
    "#### saving our model after every epoch using check point "
   ]
  },
  {
   "cell_type": "code",
   "execution_count": null,
   "metadata": {},
   "outputs": [],
   "source": [
    "# saving our model aftre every epoch\n",
    "import os \n",
    "from keras.callbacks import ModelCheckpoint\n",
    "\n",
    "check_point_path='saved_model/cp.ckpt'\n",
    "check_point_dir=os.path.dirname(check_point_path)\n",
    "cp_call_back=ModelCheckpoint(check_point_path,save_weights_only=True,verbose=1)"
   ]
  },
  {
   "cell_type": "markdown",
   "metadata": {},
   "source": [
    "#### fitting our data "
   ]
  },
  {
   "cell_type": "code",
   "execution_count": null,
   "metadata": {},
   "outputs": [],
   "source": [
    "classifier.fit_generator( \n",
    "        training_set,\n",
    "        steps_per_epoch=8000, # the number of images in our training set\n",
    "        epochs=25,          # how many time to train our training set \n",
    "        validation_data=test_set, # evaluate preformance on this data\n",
    "        validation_steps=2000\n",
    "        ,callbacks=[cp_call_back]\n",
    "        )      # number of images on our test_set  \n"
   ]
  },
  {
   "cell_type": "markdown",
   "metadata": {},
   "source": [
    "#### make a new single prediction "
   ]
  },
  {
   "cell_type": "code",
   "execution_count": null,
   "metadata": {},
   "outputs": [],
   "source": [
    "import numpy as np\n",
    "from keras.preprocessing import image                                        # same as training \n",
    "test_image = image.load_img('dataset/single_prediction/cat_or_dog_1.jpg', target_size = (128, 128))\n",
    "test_image = image.img_to_array(test_image)\n",
    "test_image = np.expand_dims(test_image, axis = 0)\n",
    "result = classifier.predict(test_image)\n",
    "training_set.class_indices\n",
    "if result[0][0] == 1:\n",
    "    prediction = 'dog'\n",
    "else:\n",
    "    prediction = 'cat'"
   ]
  }
 ],
 "metadata": {
  "kernelspec": {
   "display_name": "Python 3",
   "language": "python",
   "name": "python3"
  },
  "language_info": {
   "codemirror_mode": {
    "name": "ipython",
    "version": 3
   },
   "file_extension": ".py",
   "mimetype": "text/x-python",
   "name": "python",
   "nbconvert_exporter": "python",
   "pygments_lexer": "ipython3",
   "version": "3.7.4"
  }
 },
 "nbformat": 4,
 "nbformat_minor": 2
}
